{
 "cells": [
  {
   "cell_type": "code",
   "execution_count": null,
   "id": "2edb1de9",
   "metadata": {},
   "outputs": [],
   "source": [
    "#Dependencies"
   ]
  },
  {
   "cell_type": "code",
   "execution_count": null,
   "id": "6671db79",
   "metadata": {},
   "outputs": [],
   "source": [
    "#just tried another way to find out the % Passing Maths | Readings via previous Python Loop and conditional function\n",
    "# find 2 lists of pass students | len(passed list) | % by two len figure calculation \n",
    "#Maths_pass_list = []\n",
    "#for row in school_data_complete[\"math_score\"]:\n",
    "    #Maths_pass_list = school_data_complete.loc[(school_data_complete[\"math_score\"] == 70) | (\n",
    "        #school_data_complete[\"math_score\"] > 70), :]\n",
    "    #print(Maths_pass_list)"
   ]
  },
  {
   "cell_type": "code",
   "execution_count": null,
   "id": "9fb0053d",
   "metadata": {},
   "outputs": [],
   "source": [
    "# find the % of Maths Pass\n",
    "#Number_Maths_Pass = len(Maths_pass_list[\"math_score\"])\n",
    "#print(Number_Maths_Pass)\n",
    "#Percent_Maths_Pass = round(Number_Maths_Pass/student_count*100)\n",
    "#print(Percent_Maths_Pass)"
   ]
  },
  {
   "cell_type": "code",
   "execution_count": null,
   "id": "6eea0253",
   "metadata": {},
   "outputs": [],
   "source": [
    "#same with Readings\n",
    "#Reading_pass_list = []\n",
    "#for row in school_data_complete[\"reading_score\"]:\n",
    "    #Reading_pass_list = school_data_complete.loc[(school_data_complete[\"reading_score\"] == 70) | (\n",
    "        #school_data_complete[\"reading_score\"] > 70), :]\n",
    "    #print(Reading_pass_list)"
   ]
  },
  {
   "cell_type": "code",
   "execution_count": null,
   "id": "d6c777ba",
   "metadata": {},
   "outputs": [],
   "source": [
    "# find the % of Readings Pass\n",
    "#Number_Reading_Pass = len(Reading_pass_list)\n",
    "#Percent_Reading_Pass = round(Number_Reading_Pass/student_count*100)\n",
    "#print(Percent_Reading_Pass)"
   ]
  },
  {
   "cell_type": "code",
   "execution_count": null,
   "id": "985b64f2",
   "metadata": {},
   "outputs": [],
   "source": [
    "# find the % of Pass both Maths_Reading (overall_Passing)\n",
    "#overall_Passing=pd.merge(Maths_pass_list,Reading_pass_list,on=\"student_name\")\n",
    "#print(overall_Passing)"
   ]
  },
  {
   "cell_type": "code",
   "execution_count": null,
   "id": "a8319aed",
   "metadata": {},
   "outputs": [],
   "source": [
    "#group_school = school_data_complete.groupby([\"school_name\"])\n",
    "#group_school.head()"
   ]
  }
 ],
 "metadata": {
  "kernelspec": {
   "display_name": "Python 3 (ipykernel)",
   "language": "python",
   "name": "python3"
  },
  "language_info": {
   "codemirror_mode": {
    "name": "ipython",
    "version": 3
   },
   "file_extension": ".py",
   "mimetype": "text/x-python",
   "name": "python",
   "nbconvert_exporter": "python",
   "pygments_lexer": "ipython3",
   "version": "3.9.7"
  }
 },
 "nbformat": 4,
 "nbformat_minor": 5
}
